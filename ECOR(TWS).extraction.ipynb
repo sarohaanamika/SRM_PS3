{
 "cells": [
  {
   "cell_type": "code",
   "execution_count": 1,
   "id": "81313407",
   "metadata": {},
   "outputs": [],
   "source": [
    "import pandas as pd\n",
    "import numpy as np\n",
    "import matplotlib.pyplot as plt\n",
    "import seaborn as sns\n",
    "%matplotlib inline"
   ]
  },
  {
   "cell_type": "code",
   "execution_count": 2,
   "id": "91da08ca",
   "metadata": {},
   "outputs": [],
   "source": [
    "ECOR_Railway= pd.read_csv('FEB 2025 Prototype data/ECOR.csv')"
   ]
  },
  {
   "cell_type": "code",
   "execution_count": 41,
   "id": "45852680",
   "metadata": {},
   "outputs": [
    {
     "data": {
      "text/html": [
       "<style>.container { width:100% !important; }</style>"
      ],
      "text/plain": [
       "<IPython.core.display.HTML object>"
      ]
     },
     "metadata": {},
     "output_type": "display_data"
    }
   ],
   "source": [
    "from IPython.display import display, HTML\n",
    "\n",
    "display(HTML(\"<style>.container { width:100% !important; }</style>\"))"
   ]
  },
  {
   "cell_type": "code",
   "execution_count": 3,
   "id": "e592004e",
   "metadata": {},
   "outputs": [
    {
     "data": {
      "text/html": [
       "<div>\n",
       "<style scoped>\n",
       "    .dataframe tbody tr th:only-of-type {\n",
       "        vertical-align: middle;\n",
       "    }\n",
       "\n",
       "    .dataframe tbody tr th {\n",
       "        vertical-align: top;\n",
       "    }\n",
       "\n",
       "    .dataframe thead th {\n",
       "        text-align: right;\n",
       "    }\n",
       "</style>\n",
       "<table border=\"1\" class=\"dataframe\">\n",
       "  <thead>\n",
       "    <tr style=\"text-align: right;\">\n",
       "      <th></th>\n",
       "      <th>Time</th>\n",
       "      <th>Site Name</th>\n",
       "      <th>Point Machine Name</th>\n",
       "      <th>Direction</th>\n",
       "      <th>A Current</th>\n",
       "      <th>A Voltage</th>\n",
       "      <th>B Current</th>\n",
       "      <th>B Voltage</th>\n",
       "      <th>Type of A</th>\n",
       "      <th>Type of B</th>\n",
       "      <th>Polling of A</th>\n",
       "      <th>Polling of B</th>\n",
       "    </tr>\n",
       "  </thead>\n",
       "  <tbody>\n",
       "    <tr>\n",
       "      <th>0</th>\n",
       "      <td>2025-02-10 10:08:34</td>\n",
       "      <td>Cuttack</td>\n",
       "      <td>PT101</td>\n",
       "      <td>Reverse</td>\n",
       "      <td>0.0,4.7,4.2,3.1,2.4,1.4,1.7,1.7,1.7,1.6,1.5,1....</td>\n",
       "      <td>0.0,10.5,54.0,82.5,97.5,102.0,91.5,96.0,99.0,1...</td>\n",
       "      <td>0.0,4.5,4.1,3.0,2.3,1.4,1.5,1.6,1.7,1.8,1.8,1....</td>\n",
       "      <td>0.0,12.0,52.5,82.5,97.5,105.0,94.5,94.5,97.5,9...</td>\n",
       "      <td>TWS</td>\n",
       "      <td>TWS</td>\n",
       "      <td>100</td>\n",
       "      <td>100.0</td>\n",
       "    </tr>\n",
       "    <tr>\n",
       "      <th>1</th>\n",
       "      <td>2025-02-10 10:14:51</td>\n",
       "      <td>Cuttack</td>\n",
       "      <td>PT101</td>\n",
       "      <td>Normal</td>\n",
       "      <td>0.0,4.2,4.2,2.6,2.1,2.0,1.8,1.7,1.7,1.7,1.7,1....</td>\n",
       "      <td>0.0,30.0,66.0,85.5,84.0,91.5,97.5,102.0,103.5,...</td>\n",
       "      <td>0.0,3.7,4.1,2.9,2.5,2.1,1.8,1.7,1.7,1.8,2.0,2....</td>\n",
       "      <td>0.0,24.0,58.5,73.5,85.5,94.5,99.0,102.0,103.5,...</td>\n",
       "      <td>TWS</td>\n",
       "      <td>TWS</td>\n",
       "      <td>100</td>\n",
       "      <td>100.0</td>\n",
       "    </tr>\n",
       "  </tbody>\n",
       "</table>\n",
       "</div>"
      ],
      "text/plain": [
       "                  Time Site Name Point Machine Name Direction  \\\n",
       "0  2025-02-10 10:08:34   Cuttack              PT101   Reverse   \n",
       "1  2025-02-10 10:14:51   Cuttack              PT101    Normal   \n",
       "\n",
       "                                           A Current  \\\n",
       "0  0.0,4.7,4.2,3.1,2.4,1.4,1.7,1.7,1.7,1.6,1.5,1....   \n",
       "1  0.0,4.2,4.2,2.6,2.1,2.0,1.8,1.7,1.7,1.7,1.7,1....   \n",
       "\n",
       "                                           A Voltage  \\\n",
       "0  0.0,10.5,54.0,82.5,97.5,102.0,91.5,96.0,99.0,1...   \n",
       "1  0.0,30.0,66.0,85.5,84.0,91.5,97.5,102.0,103.5,...   \n",
       "\n",
       "                                           B Current  \\\n",
       "0  0.0,4.5,4.1,3.0,2.3,1.4,1.5,1.6,1.7,1.8,1.8,1....   \n",
       "1  0.0,3.7,4.1,2.9,2.5,2.1,1.8,1.7,1.7,1.8,2.0,2....   \n",
       "\n",
       "                                           B Voltage Type of A Type of B  \\\n",
       "0  0.0,12.0,52.5,82.5,97.5,105.0,94.5,94.5,97.5,9...       TWS       TWS   \n",
       "1  0.0,24.0,58.5,73.5,85.5,94.5,99.0,102.0,103.5,...       TWS       TWS   \n",
       "\n",
       "   Polling of A  Polling of B  \n",
       "0           100         100.0  \n",
       "1           100         100.0  "
      ]
     },
     "execution_count": 3,
     "metadata": {},
     "output_type": "execute_result"
    }
   ],
   "source": [
    "ECOR_Railway.head(2)"
   ]
  },
  {
   "cell_type": "code",
   "execution_count": 4,
   "id": "ba7a0754",
   "metadata": {},
   "outputs": [
    {
     "data": {
      "text/html": [
       "<div>\n",
       "<style scoped>\n",
       "    .dataframe tbody tr th:only-of-type {\n",
       "        vertical-align: middle;\n",
       "    }\n",
       "\n",
       "    .dataframe tbody tr th {\n",
       "        vertical-align: top;\n",
       "    }\n",
       "\n",
       "    .dataframe thead th {\n",
       "        text-align: right;\n",
       "    }\n",
       "</style>\n",
       "<table border=\"1\" class=\"dataframe\">\n",
       "  <thead>\n",
       "    <tr style=\"text-align: right;\">\n",
       "      <th></th>\n",
       "      <th>Time</th>\n",
       "      <th>Site Name</th>\n",
       "      <th>Point Machine Name</th>\n",
       "      <th>Direction</th>\n",
       "      <th>A Current</th>\n",
       "      <th>A Voltage</th>\n",
       "      <th>B Current</th>\n",
       "      <th>B Voltage</th>\n",
       "      <th>Type of A</th>\n",
       "      <th>Type of B</th>\n",
       "      <th>Polling of A</th>\n",
       "      <th>Polling of B</th>\n",
       "    </tr>\n",
       "  </thead>\n",
       "  <tbody>\n",
       "    <tr>\n",
       "      <th>4721</th>\n",
       "      <td>2025-02-10 13:20:36</td>\n",
       "      <td>Cuttack</td>\n",
       "      <td>PT105</td>\n",
       "      <td>Reverse</td>\n",
       "      <td>0.0,4.4,4.4,3.4,2.8,2.4,2.1,1.9,1.7,1.6,1.5,1....</td>\n",
       "      <td>0.0,39.0,72.0,90.0,100.5,105.0,108.0,109.5,111...</td>\n",
       "      <td>0.0,0.0</td>\n",
       "      <td>0.0,0.0</td>\n",
       "      <td>IRS</td>\n",
       "      <td>NaN</td>\n",
       "      <td>100</td>\n",
       "      <td>NaN</td>\n",
       "    </tr>\n",
       "  </tbody>\n",
       "</table>\n",
       "</div>"
      ],
      "text/plain": [
       "                     Time Site Name Point Machine Name Direction  \\\n",
       "4721  2025-02-10 13:20:36   Cuttack              PT105   Reverse   \n",
       "\n",
       "                                              A Current  \\\n",
       "4721  0.0,4.4,4.4,3.4,2.8,2.4,2.1,1.9,1.7,1.6,1.5,1....   \n",
       "\n",
       "                                              A Voltage B Current B Voltage  \\\n",
       "4721  0.0,39.0,72.0,90.0,100.5,105.0,108.0,109.5,111...   0.0,0.0   0.0,0.0   \n",
       "\n",
       "     Type of A Type of B  Polling of A  Polling of B  \n",
       "4721       IRS       NaN           100           NaN  "
      ]
     },
     "execution_count": 4,
     "metadata": {},
     "output_type": "execute_result"
    }
   ],
   "source": [
    "# Identify rows where 'Type of A' or 'Type of B' is 'IRS'\n",
    "irs_rows = ECOR_Railway[(ECOR_Railway['Type of A'] == 'IRS') | (ECOR_Railway['Type of B'] == 'IRS')]\n",
    "\n",
    "# Display only the first 10 rows\n",
    "irs_rows.head(1)\n"
   ]
  },
  {
   "cell_type": "code",
   "execution_count": 5,
   "id": "e59350f0",
   "metadata": {
    "scrolled": true
   },
   "outputs": [],
   "source": [
    "# Remove rows where 'Type of A' or 'Type of B' is 'IRS'\n",
    "ECOR_Railway = ECOR_Railway[(ECOR_Railway['Type of A'] != 'IRS') & (ECOR_Railway['Type of B'] != 'IRS')]\n"
   ]
  },
  {
   "cell_type": "code",
   "execution_count": 6,
   "id": "edbc1208",
   "metadata": {
    "scrolled": true
   },
   "outputs": [
    {
     "data": {
      "text/plain": [
       "Time                      0\n",
       "Site Name                 0\n",
       "Point Machine Name        0\n",
       "Direction                 0\n",
       "A Current               275\n",
       "A Voltage               275\n",
       "B Current               275\n",
       "B Voltage               275\n",
       "Type of A                 0\n",
       "Type of B             21444\n",
       "Polling of A              0\n",
       "Polling of B          21444\n",
       "dtype: int64"
      ]
     },
     "execution_count": 6,
     "metadata": {},
     "output_type": "execute_result"
    }
   ],
   "source": [
    "missing_data = ECOR_Railway.isnull().sum()\n",
    "missing_data"
   ]
  },
  {
   "cell_type": "code",
   "execution_count": 7,
   "id": "5f3df8ce",
   "metadata": {
    "scrolled": true
   },
   "outputs": [
    {
     "data": {
      "text/plain": [
       "Time                    0\n",
       "Site Name               0\n",
       "Point Machine Name      0\n",
       "Direction               0\n",
       "A Current             275\n",
       "A Voltage             275\n",
       "B Current             275\n",
       "B Voltage             275\n",
       "Type of A               0\n",
       "Type of B               0\n",
       "Polling of A            0\n",
       "Polling of B            0\n",
       "dtype: int64"
      ]
     },
     "execution_count": 7,
     "metadata": {},
     "output_type": "execute_result"
    }
   ],
   "source": [
    "\n",
    "# Fill missing values in 'Type of B' with 'TWS' and 'Polling of B' with 100\n",
    "ECOR_Railway['Type of B'] = ECOR_Railway['Type of B'].fillna('TWS')\n",
    "ECOR_Railway['Polling of B'] = ECOR_Railway['Polling of B'].fillna(100)\n",
    "\n",
    "\n",
    "check= ECOR_Railway.isnull().sum()\n",
    "check\n"
   ]
  },
  {
   "cell_type": "code",
   "execution_count": 8,
   "id": "a34c8697",
   "metadata": {},
   "outputs": [],
   "source": [
    "ECOR_Railway.to_csv(r\"/Users/prathamhandique/Desktop/energy7/ECORextracted.csv\", index=False)"
   ]
  },
  {
   "cell_type": "code",
   "execution_count": null,
   "id": "df2e69c6",
   "metadata": {},
   "outputs": [],
   "source": []
  }
 ],
 "metadata": {
  "kernelspec": {
   "display_name": "Python 3 (ipykernel)",
   "language": "python",
   "name": "python3"
  },
  "language_info": {
   "codemirror_mode": {
    "name": "ipython",
    "version": 3
   },
   "file_extension": ".py",
   "mimetype": "text/x-python",
   "name": "python",
   "nbconvert_exporter": "python",
   "pygments_lexer": "ipython3",
   "version": "3.10.9"
  }
 },
 "nbformat": 4,
 "nbformat_minor": 5
}
