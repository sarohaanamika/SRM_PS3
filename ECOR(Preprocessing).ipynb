{
 "cells": [
  {
   "cell_type": "code",
   "execution_count": 1,
   "id": "b758641c",
   "metadata": {},
   "outputs": [],
   "source": [
    "import pandas as pd\n",
    "import numpy as np\n",
    "import matplotlib.pyplot as plt\n",
    "import seaborn as sns\n",
    "%matplotlib inline"
   ]
  },
  {
   "cell_type": "code",
   "execution_count": 2,
   "id": "5e552bc0",
   "metadata": {},
   "outputs": [],
   "source": [
    "ECOR_Railway= pd.read_csv('ECORextracted.csv')"
   ]
  },
  {
   "cell_type": "code",
   "execution_count": 3,
   "id": "2d841a31",
   "metadata": {},
   "outputs": [
    {
     "name": "stdout",
     "output_type": "stream",
     "text": [
      "saved\n"
     ]
    }
   ],
   "source": [
    "#TO CONVERT TO LIST\n",
    "import numpy as np\n",
    "import pandas as pd\n",
    "\n",
    "def convert_to_list(x):\n",
    "    if isinstance(x, str):\n",
    "        if x.strip() == '':\n",
    "            return np.nan\n",
    "        try:\n",
    "            return [float(i) for i in x.split(',') if i.strip()]\n",
    "        except ValueError:\n",
    "            return np.nan\n",
    "    elif isinstance(x, (int, float)):\n",
    "        return [float(x)]\n",
    "    return np.nan\n",
    "\n",
    "# Load the dataset\n",
    "file_path_new_timeseries = r\"/Users/prathamhandique/Desktop/energy7/ECORextracted.csv\"\n",
    "data_new_timeseries = pd.read_csv(file_path_new_timeseries)\n",
    "\n",
    "# ✅ Replace all blank/empty cells with NaN\n",
    "data_new_timeseries.replace(r'^\\s*$', np.nan, regex=True, inplace=True)\n",
    "\n",
    "# Columns that contain time-series data\n",
    "time_series_columns = ['A Current', 'A Voltage', 'B Current', 'B Voltage']\n",
    "\n",
    "# Convert string to list in time-series columns\n",
    "for col in time_series_columns:\n",
    "    data_new_timeseries[col] = data_new_timeseries[col].apply(convert_to_list)\n",
    "\n",
    "# Expand lists into individual time-step columns\n",
    "expanded_df = pd.DataFrame()\n",
    "for col in time_series_columns:\n",
    "    expanded_cols = pd.DataFrame(\n",
    "        data_new_timeseries[col].tolist(),\n",
    "        columns=[f'{col}_{i+1}' for i in range(data_new_timeseries[col].apply(lambda x: len(x) if isinstance(x, list) else 0).max())]\n",
    "    )\n",
    "    expanded_df = pd.concat([expanded_df, expanded_cols], axis=1)\n",
    "\n",
    "# Optional: Save cleaned and expanded data\n",
    "data_new_timeseries.to_csv(r\"/Users/prathamhandique/Desktop/energy7/ECORprocessed.csv\", index=False)\n",
    "print(\"saved\")\n"
   ]
  },
  {
   "cell_type": "code",
   "execution_count": 4,
   "id": "8551e3ee",
   "metadata": {},
   "outputs": [
    {
     "name": "stdout",
     "output_type": "stream",
     "text": [
      "Total rows with [nan] or [0.0, 0.0]: 26713\n"
     ]
    }
   ],
   "source": [
    "#COUNT COLUMNS WITH ATLEAST ONE NAN OR [000]\n",
    "import pandas as pd\n",
    "import numpy as np\n",
    "\n",
    "# Define time-series columns\n",
    "time_series_columns = ['A Current', 'A Voltage', 'B Current', 'B Voltage']\n",
    "\n",
    "# Function to check if list is [nan] or [0.0, 0.0]\n",
    "def is_invalid_list(x):\n",
    "    if isinstance(x, list):\n",
    "        # Case 1: [nan] or list containing NaNs only\n",
    "        if all(pd.isna(v) for v in x):\n",
    "            return True\n",
    "        # Case 2: list equals [0.0, 0.0]\n",
    "        if len(x) == 2 and all(v == 0.0 for v in x):\n",
    "            return True\n",
    "    return False\n",
    "\n",
    "# Apply function to each time-series column, row-wise\n",
    "row_flags = data_new_timeseries[time_series_columns].applymap(is_invalid_list)\n",
    "\n",
    "# Count rows where any of the columns are invalid (only once per row)\n",
    "count_invalid_rows = row_flags.any(axis=1).sum()\n",
    "\n",
    "print(f\"Total rows with [nan] or [0.0, 0.0]: {count_invalid_rows}\")\n"
   ]
  },
  {
   "cell_type": "code",
   "execution_count": 5,
   "id": "4d17fe95",
   "metadata": {},
   "outputs": [
    {
     "name": "stdout",
     "output_type": "stream",
     "text": [
      "saved\n"
     ]
    }
   ],
   "source": [
    "import numpy as np\n",
    "\n",
    "# Define your time-series columns\n",
    "time_series_columns = ['A Current', 'A Voltage', 'B Current', 'B Voltage']\n",
    "\n",
    "# Function to convert [0.0, 0.0] to [np.nan]\n",
    "def zero_pair_to_nan(x):\n",
    "    if isinstance(x, list) and len(x) == 2 and all(v == 0.0 for v in x):\n",
    "        return [np.nan]\n",
    "    return x  # leave all other data untouched\n",
    "\n",
    "# Apply the conversion to each time-series column\n",
    "for col in time_series_columns:\n",
    "    data_new_timeseries[col] = data_new_timeseries[col].apply(zero_pair_to_nan)\n",
    "data_new_timeseries.to_csv(r\"/Users/prathamhandique/Desktop/energy7/ECORtest.csv\", index=False)\n",
    "print(\"saved\")\n"
   ]
  },
  {
   "cell_type": "code",
   "execution_count": null,
   "id": "120433e5",
   "metadata": {},
   "outputs": [],
   "source": []
  }
 ],
 "metadata": {
  "kernelspec": {
   "display_name": "Python 3 (ipykernel)",
   "language": "python",
   "name": "python3"
  },
  "language_info": {
   "codemirror_mode": {
    "name": "ipython",
    "version": 3
   },
   "file_extension": ".py",
   "mimetype": "text/x-python",
   "name": "python",
   "nbconvert_exporter": "python",
   "pygments_lexer": "ipython3",
   "version": "3.10.9"
  }
 },
 "nbformat": 4,
 "nbformat_minor": 5
}
