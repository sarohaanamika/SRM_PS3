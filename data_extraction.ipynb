{
 "cells": [
  {
   "cell_type": "markdown",
   "metadata": {},
   "source": [
    "## SR Dataset  "
   ]
  },
  {
   "cell_type": "code",
   "execution_count": 6,
   "metadata": {},
   "outputs": [
    {
     "name": "stdout",
     "output_type": "stream",
     "text": [
      "Found 68017 occurrences of 'TWS' in the file\n"
     ]
    }
   ],
   "source": [
    "with open('/Users/anamikasaroha/Energy7_Week1/twsdata/SR.csv', 'r') as file:\n",
    "    data = file.read()\n",
    "    tws_count = data.count(\"TWS\")\n",
    "    print(f\"Found {tws_count} occurrences of 'TWS' in the file\")"
   ]
  },
  {
   "cell_type": "code",
   "execution_count": null,
   "metadata": {},
   "outputs": [
    {
     "name": "stdout",
     "output_type": "stream",
     "text": [
      "                      Time              Site Name Point Machine Name  \\\n",
      "0      2025-02-10 05:25:23  WALAJAH ROAD JUNCTION                102   \n",
      "1      2025-02-10 09:38:24  WALAJAH ROAD JUNCTION                102   \n",
      "2      2025-02-10 09:53:49  WALAJAH ROAD JUNCTION                102   \n",
      "3      2025-02-10 09:57:38  WALAJAH ROAD JUNCTION                102   \n",
      "4      2025-02-10 09:59:20  WALAJAH ROAD JUNCTION                102   \n",
      "...                    ...                    ...                ...   \n",
      "61128  2025-02-08 10:54:25           Sasthamkotta                 50   \n",
      "61129  2025-02-08 11:01:31           Sasthamkotta                 50   \n",
      "61130  2025-02-08 23:14:41           Sasthamkotta                 50   \n",
      "61131  2025-02-08 23:51:02           Sasthamkotta                 50   \n",
      "61132  2025-02-08 23:50:49           Sasthamkotta                 50   \n",
      "\n",
      "      Direction                                          A Current  \\\n",
      "0       Reverse  0.0,1.8,6.0,4.1,3.0,2.4,2.0,1.9,1.8,1.8,1.8,2....   \n",
      "1        Normal                                            0.0,0.0   \n",
      "2       Reverse  0.0,3.0,5.8,3.9,2.8,2.3,1.9,1.9,1.8,1.8,1.8,1....   \n",
      "3        Normal                                            0.0,0.0   \n",
      "4        Normal                                            0.0,0.0   \n",
      "...         ...                                                ...   \n",
      "61128   Reverse  0.0,4.8,4.1,3.2,2.6,2.2,2.0,2.0,2.0,2.1,2.2,2....   \n",
      "61129    Normal  0.0,4.7,3.8,3.0,2.5,2.1,1.9,1.9,2.0,2.0,2.1,2....   \n",
      "61130   Reverse  0.9,4.8,3.9,3.1,2.5,2.2,2.0,2.0,2.1,2.1,2.2,2....   \n",
      "61131    Normal  0.0,4.7,4.0,3.1,2.6,2.2,1.9,1.9,1.9,2.0,2.1,2....   \n",
      "61132   Reverse  0.0,4.0,3.9,3.1,3.0,3.0,3.2,3.4,3.5,3.5,3.5,3....   \n",
      "\n",
      "                                               A Voltage  \\\n",
      "0      0.0,16.5,54.0,82.5,99.0,106.5,111.0,112.5,112....   \n",
      "1                                                0.0,0.0   \n",
      "2      0.0,16.5,52.5,81.0,97.5,106.5,111.0,112.5,112....   \n",
      "3                                                0.0,0.0   \n",
      "4                                                0.0,0.0   \n",
      "...                                                  ...   \n",
      "61128  0.0,33.0,69.0,90.0,100.5,105.0,108.0,109.5,109...   \n",
      "61129  0.0,10.5,49.5,79.5,94.5,102.0,106.5,109.5,109....   \n",
      "61130  0.0,37.5,72.0,90.0,100.5,106.5,109.5,109.5,109...   \n",
      "61131  0.0,45.0,76.5,93.0,102.0,106.5,109.5,111.0,111...   \n",
      "61132  0.0,13.5,21.0,67.5,88.5,99.0,105.0,106.5,106.5...   \n",
      "\n",
      "                                               B Current  \\\n",
      "0      0.0,2.3,4.9,3.7,2.7,2.0,1.8,1.7,1.8,1.8,1.8,1....   \n",
      "1      0.0,2.3,5.2,3.5,2.7,2.2,1.8,1.8,1.9,1.9,1.9,2....   \n",
      "2      0.0,3.4,4.9,3.6,2.6,2.0,1.8,1.7,1.8,1.7,1.7,1....   \n",
      "3      0.0,6.1,6.1,6.1,6.1,5.2,1.9,0.0,0.0,0.0,0.0,0....   \n",
      "4      0.9,5.5,4.2,3.1,2.5,2.0,1.8,1.7,1.7,1.8,1.8,2....   \n",
      "...                                                  ...   \n",
      "61128  0.0,4.9,4.5,3.7,3.1,2.6,2.3,2.3,2.3,2.3,2.4,2....   \n",
      "61129  0.0,4.9,4.3,3.5,2.9,2.4,2.2,2.2,2.5,2.9,3.0,3....   \n",
      "61130  0.0,1.1,5.1,4.4,3.6,3.0,2.5,2.3,2.3,2.4,2.4,2....   \n",
      "61131  0.0,4.8,4.5,3.6,3.0,2.5,2.2,2.2,2.5,2.9,3.2,3....   \n",
      "61132  0.0,3.9,4.1,3.4,2.9,2.5,2.2,2.2,2.2,2.4,2.4,2....   \n",
      "\n",
      "                                               B Voltage Type of A Type of B  \\\n",
      "0      0.0,15.0,55.5,84.0,100.5,109.5,112.5,114.0,115...       TWS       TWS   \n",
      "1      0.0,15.0,52.5,82.5,99.0,106.5,109.5,109.5,111....       TWS       TWS   \n",
      "2      0.0,13.5,52.5,82.5,100.5,109.5,112.5,115.5,115...       TWS       TWS   \n",
      "3      0.0,94.5,94.5,93.0,93.0,93.0,93.0,93.0,93.0,93...       TWS       TWS   \n",
      "4      0.0,15.0,45.0,78.0,96.0,105.0,108.0,108.0,106....       TWS       TWS   \n",
      "...                                                  ...       ...       ...   \n",
      "61128  0.0,34.5,69.0,88.5,99.0,103.5,106.5,108.0,108....       TWS       TWS   \n",
      "61129  0.0,12.0,51.0,78.0,93.0,102.0,106.5,108.0,108....       TWS       TWS   \n",
      "61130  0.0,37.5,70.5,88.5,99.0,105.0,108.0,108.0,108....       TWS       TWS   \n",
      "61131  0.0,46.5,76.5,93.0,102.0,106.5,109.5,109.5,108...       TWS       TWS   \n",
      "61132  0.0,13.5,21.0,63.0,85.5,97.5,102.0,103.5,102.0...       TWS       TWS   \n",
      "\n",
      "       Polling of A  Polling of B  \n",
      "0               100         100.0  \n",
      "1               100         100.0  \n",
      "2               100         100.0  \n",
      "3               100         100.0  \n",
      "4               100         100.0  \n",
      "...             ...           ...  \n",
      "61128           100         100.0  \n",
      "61129           100         100.0  \n",
      "61130           100         100.0  \n",
      "61131           100         100.0  \n",
      "61132           100         100.0  \n",
      "\n",
      "[20133 rows x 12 columns]\n"
     ]
    }
   ],
   "source": [
    "import pandas as pd\n",
    "\n",
    "# Load the dataset\n",
    "file_path = r'/Users/anamikasaroha/Energy7_Week1/twsdata/SR.csv'  # Update with the actual path of your CSV file\n",
    "data = pd.read_csv(file_path)\n",
    "\n",
    "# Filter rows where 'Type of A' or 'Type of B' contains 'TWS'\n",
    "tws_data = data[data['Type of A'].str.contains('TWS', case=False, na=False) | data['Type of B'].str.contains('TWS', case=False, na=False)]\n",
    "\n",
    "# Exclude rows where 'Type of A' or 'Type of B' contains 'IRS'\n",
    "tws_only_data = tws_data[~tws_data['Type of A'].str.contains('IRS', case=False, na=False) & \n",
    "                         ~tws_data['Type of B'].str.contains('IRS', case=False, na=False)]\n",
    "\n",
    "# Display the filtered dataset\n",
    "print(tws_only_data)\n",
    "\n",
    "# Optionally, save the filtered data to a new CSV file\n",
    "tws_only_data.to_csv('SR_tws.csv', index=False)\n"
   ]
  },
  {
   "cell_type": "code",
   "execution_count": 7,
   "metadata": {},
   "outputs": [
    {
     "name": "stdout",
     "output_type": "stream",
     "text": [
      "Found 23024 occurrences of 'TWS' in the file\n"
     ]
    }
   ],
   "source": [
    "with open('/Users/anamikasaroha/Energy7_Week1/SR_tws.csv', 'r') as file:\n",
    "    data = file.read()\n",
    "    tws_count = data.count(\"TWS\")\n",
    "    print(f\"Found {tws_count} occurrences of 'TWS' in the file\")"
   ]
  },
  {
   "cell_type": "code",
   "execution_count": 13,
   "metadata": {},
   "outputs": [
    {
     "name": "stdout",
     "output_type": "stream",
     "text": [
      "Found 0 occurrences of 'IRS' in the file\n"
     ]
    }
   ],
   "source": [
    "with open('/Users/anamikasaroha/Energy7_Week1/SR_tws.csv', 'r') as file:\n",
    "    data = file.read()\n",
    "    tws_count = data.count(\"IRS\")\n",
    "    print(f\"Found {tws_count} occurrences of 'IRS' in the file\")"
   ]
  },
  {
   "cell_type": "markdown",
   "metadata": {},
   "source": [
    "## WCR Dataset"
   ]
  },
  {
   "cell_type": "code",
   "execution_count": 8,
   "metadata": {},
   "outputs": [
    {
     "name": "stdout",
     "output_type": "stream",
     "text": [
      "Found 10498 occurrences of 'TWS' in the file\n"
     ]
    }
   ],
   "source": [
    "with open('/Users/anamikasaroha/Energy7_Week1/twsdata/WCR.csv', 'r') as file:\n",
    "    data = file.read()\n",
    "    tws_count = data.count(\"TWS\")\n",
    "    print(f\"Found {tws_count} occurrences of 'TWS' in the file\")"
   ]
  },
  {
   "cell_type": "code",
   "execution_count": 3,
   "metadata": {},
   "outputs": [
    {
     "name": "stdout",
     "output_type": "stream",
     "text": [
      "                     Time Site Name Point Machine Name Direction  \\\n",
      "0     2025-02-10 08:25:51   ARNETHA            101/102   Reverse   \n",
      "1     2025-02-10 08:25:59   ARNETHA            101/102    Normal   \n",
      "2     2024-08-10 06:51:04   ARNETHA            101/102   Reverse   \n",
      "3     2024-08-10 06:51:17   ARNETHA            101/102    Normal   \n",
      "4     2024-08-11 12:08:18   ARNETHA            101/102   Reverse   \n",
      "...                   ...       ...                ...       ...   \n",
      "4942  2025-02-07 14:45:00   ARNETHA            119/120    Normal   \n",
      "4943  2025-02-08 08:32:47   ARNETHA            119/120   Reverse   \n",
      "4944  2025-02-08 08:32:47   ARNETHA            119/120    Normal   \n",
      "4945  2025-02-09 08:29:27   ARNETHA            119/120   Reverse   \n",
      "4946  2025-02-09 08:29:27   ARNETHA            119/120    Normal   \n",
      "\n",
      "                                              A Current  \\\n",
      "0                               0,0,0,0,0,0,0,0,0,0,0.0   \n",
      "1     0,4.7,4.7,3.7,3,2.6,2.2,2,1.9,1.8,1.8,1.9,2,2....   \n",
      "2     0.0,1.4,4.5,3.9,3.2,2.7,2.4,2.2,2.1,2.1,2,2.1,...   \n",
      "3     0,4.2,4.9,4,3.2,2.8,2.4,2.2,2.1,2,1.9,1.9,1.9,...   \n",
      "4     0.0,4.2,4.2,3.4,2.9,2.5,2.2,2.1,2,2,2,2.1,2.1,...   \n",
      "...                                                 ...   \n",
      "4942  0.0,1.2,3,4.5,5.3,5.8,6.1,6.2,6.3,6.3,6.2,6.2,...   \n",
      "4943  0,3.7,5,5.7,6.1,6.3,6.4,6.5,6.5,6.5,6.3,6.1,5....   \n",
      "4944  0.9,2.8,4.6,5.6,6.2,6.5,6.6,6.7,6.7,6.7,6.7,6....   \n",
      "4945  0,5.1,5.9,6.3,6.5,6.7,6.7,6.7,6.7,6.6,6.5,6.3,...   \n",
      "4946  0.0,1.4,3.4,5.1,6,6.5,6.8,6.9,7,7,7,7,7,6.9,6....   \n",
      "\n",
      "                                              A Voltage  \\\n",
      "0     0.0,31.5,70.5,90.0,99.0,103.5,106.5,108.0,108....   \n",
      "1     0.0,90.0,88.5,97.5,103.5,106.5,108.0,109.5,111...   \n",
      "2     0.0,58.5,81.0,93.0,99.0,102.0,103.5,103.5,103....   \n",
      "3     0.0,88.5,82.5,90.0,96.0,100.5,102.0,103.5,105....   \n",
      "4     0.0,52.5,78.0,91.5,97.5,100.5,103.5,103.5,103....   \n",
      "...                                                 ...   \n",
      "4942  0.0,52.5,72.0,57.0,45.0,37.5,33.0,30.0,30.0,30...   \n",
      "4943  0.0,40.5,37.5,36.0,30.0,85.5,75.0,57.0,45.0,37...   \n",
      "4944  0.0,42.0,76.5,61.5,48.0,40.5,34.5,31.5,31.5,33...   \n",
      "4945  0.0,37.5,34.5,72.0,87.0,67.5,51.0,42.0,36.0,33...   \n",
      "4946  0.0,61.5,75.0,58.5,46.5,39.0,33.0,31.5,31.5,31...   \n",
      "\n",
      "                                              B Current  \\\n",
      "0     0,0,0,0,0,0,0,0,0,0,0,0,0,0,0,0,0,0,0,0,0,0,0,...   \n",
      "1     0.0,4.2,4.3,3.4,2.8,2.4,2.1,1.9,1.9,1.8,1.8,1....   \n",
      "2     0,5,4.5,3.5,2.8,2.4,2.1,2,2,2.1,2.3,2.4,2.5,2....   \n",
      "3     0.0,2.9,4.4,3.6,2.9,2.5,2.2,2,1.9,1.8,1.8,1.8,...   \n",
      "4     0,5,4.1,3.3,2.7,2.3,2.1,2,2,2.1,2.2,2.4,2.5,2....   \n",
      "...                                                 ...   \n",
      "4942  0.0,6.7,5.2,2.4,1.2,0.6,0,0,0,0,0,0,0,0,0,0,0,0.0   \n",
      "4943  0.0,3.5,5,5.8,6.2,6.3,6.4,6.3,6.3,6.3,6.3,6.2,...   \n",
      "4944  0.0,7.1,7.1,3.6,1.7,0.9,0,0,0,0,0,0,0,0,0,0,0,0.0   \n",
      "4945  0.0,1.4,4.2,5.5,6.2,6.5,6.6,6.7,6.7,6.7,6.7,6....   \n",
      "4946  0.0,7.5,6.1,2.9,1.4,0.7,0,0,0,0,0,0,0,0,0,0,0,0.0   \n",
      "\n",
      "                                              B Voltage Type of A Type of B  \\\n",
      "0     0.0,106.5,105.0,103.5,103.5,103.5,103.5,105.0,...       TWS       TWS   \n",
      "1     0.0,30.0,63.0,85.5,96.0,103.5,106.5,109.5,111....       TWS       TWS   \n",
      "2     0.0,99.0,97.5,96.0,94.5,94.5,96.0,99.0,100.5,1...       TWS       TWS   \n",
      "3     0.0,21.0,51.0,76.5,90.0,97.5,102.0,103.5,105.0...       TWS       TWS   \n",
      "4     0.0,100.5,99.0,97.5,96.0,96.0,97.5,100.5,100.5...       TWS       TWS   \n",
      "...                                                 ...       ...       ...   \n",
      "4942  0.0,12.0,0.0,0.0,0.0,0.0,0.0,0.0,0.0,0.0,0.0,0...       TWS       TWS   \n",
      "4943  0.0,76.5,64.5,49.5,40.5,34.5,30.0,28.5,27.0,27...       TWS       TWS   \n",
      "4944  0.0,16.5,7.5,0.0,0.0,0.0,0.0,0.0,0.0,0.0,0.0,0...       TWS       TWS   \n",
      "4945  0.0,75.0,67.5,51.0,42.0,34.5,31.5,28.5,28.5,27...       TWS       TWS   \n",
      "4946  0.0,12.0,0.0,0.0,0.0,0.0,0.0,0.0,0.0,0.0,0.0,0...       TWS       TWS   \n",
      "\n",
      "      Polling of A  Polling of B  \n",
      "0              100           100  \n",
      "1              100           100  \n",
      "2              100           100  \n",
      "3              100           100  \n",
      "4              100           100  \n",
      "...            ...           ...  \n",
      "4942           100           100  \n",
      "4943           100           100  \n",
      "4944           100           100  \n",
      "4945           100           100  \n",
      "4946           100           100  \n",
      "\n",
      "[1385 rows x 12 columns]\n"
     ]
    }
   ],
   "source": [
    "import pandas as pd\n",
    "\n",
    "# Load the dataset\n",
    "file_path = r'/Users/anamikasaroha/Energy7_Week1/twsdata/WCR.csv'  # Update with the actual path of your CSV file\n",
    "data = pd.read_csv(file_path)\n",
    "\n",
    "# Filter rows where 'Type of A' or 'Type of B' contains 'TWS'\n",
    "tws_data = data[data['Type of A'].str.contains('TWS', case=False, na=False) | data['Type of B'].str.contains('TWS', case=False, na=False)]\n",
    "\n",
    "# Exclude rows where 'Type of A' or 'Type of B' contains 'IRS'\n",
    "tws_only_data = tws_data[~tws_data['Type of A'].str.contains('IRS', case=False, na=False) & \n",
    "                         ~tws_data['Type of B'].str.contains('IRS', case=False, na=False)]\n",
    "\n",
    "# Display the filtered dataset\n",
    "print(tws_only_data)\n",
    "\n",
    "# Optionally, save the filtered data to a new CSV file\n",
    "tws_only_data.to_csv('WCR_tws.csv', index=False)"
   ]
  },
  {
   "cell_type": "code",
   "execution_count": 9,
   "metadata": {},
   "outputs": [
    {
     "name": "stdout",
     "output_type": "stream",
     "text": [
      "Found 2770 occurrences of 'TWS' in the file\n"
     ]
    }
   ],
   "source": [
    "with open('/Users/anamikasaroha/Energy7_Week1/WCR_tws.csv', 'r') as file:\n",
    "    data = file.read()\n",
    "    tws_count = data.count(\"TWS\")\n",
    "    print(f\"Found {tws_count} occurrences of 'TWS' in the file\")"
   ]
  },
  {
   "cell_type": "code",
   "execution_count": 14,
   "metadata": {},
   "outputs": [
    {
     "name": "stdout",
     "output_type": "stream",
     "text": [
      "Found 0 occurrences of 'IRS' in the file\n"
     ]
    }
   ],
   "source": [
    "with open('/Users/anamikasaroha/Energy7_Week1/WCR_tws.csv', 'r') as file:\n",
    "    data = file.read()\n",
    "    tws_count = data.count(\"IRS\")\n",
    "    print(f\"Found {tws_count} occurrences of 'IRS' in the file\")"
   ]
  },
  {
   "cell_type": "markdown",
   "metadata": {},
   "source": [
    "## WR Dataset "
   ]
  },
  {
   "cell_type": "code",
   "execution_count": 10,
   "metadata": {},
   "outputs": [
    {
     "name": "stdout",
     "output_type": "stream",
     "text": [
      "Found 261177 occurrences of 'TWS' in the file\n"
     ]
    }
   ],
   "source": [
    "with open('/Users/anamikasaroha/Energy7_Week1/twsdata/WR.csv', 'r') as file:\n",
    "    data = file.read()\n",
    "    tws_count = data.count(\"TWS\")\n",
    "    print(f\"Found {tws_count} occurrences of 'TWS' in the file\")"
   ]
  },
  {
   "cell_type": "code",
   "execution_count": 4,
   "metadata": {},
   "outputs": [
    {
     "name": "stdout",
     "output_type": "stream",
     "text": [
      "                       Time Site Name Point Machine Name Direction  \\\n",
      "8644    2025-02-10 07:42:30      Atul            129/130    Normal   \n",
      "8645    2025-02-10 07:42:14      Atul            129/130   Reverse   \n",
      "8646    2024-08-10 10:00:16      Atul            129/130   Reverse   \n",
      "8647    2024-08-10 10:03:28      Atul            129/130    Normal   \n",
      "8648    2024-08-10 10:28:37      Atul            129/130   Reverse   \n",
      "...                     ...       ...                ...       ...   \n",
      "295010  2025-02-09 17:01:56     Surat          PT101/102   Reverse   \n",
      "295011  2025-02-09 17:02:16     Surat          PT101/102    Normal   \n",
      "295012  2025-02-09 17:09:23     Surat          PT101/102   Reverse   \n",
      "295013  2025-02-09 17:09:47     Surat          PT101/102    Normal   \n",
      "295014  2025-02-09 17:13:56     Surat          PT101/102   Reverse   \n",
      "\n",
      "                                                A Current  \\\n",
      "8644    0.0,4.2,4.1,3.3,2.7,2.3,2.1,2.1,2,2,2,2.1,2.3,...   \n",
      "8645    0,4.7,4.7,3.6,2.9,2.4,2.1,1.9,1.9,1.8,1.8,1.9,...   \n",
      "8646    0,5,4.2,3.3,2.8,2.4,2.1,1.9,1.8,1.8,1.7,1.8,2,...   \n",
      "8647    0.0,1.6,4.4,3.6,2.9,2.4,2.1,1.9,1.8,1.7,1.7,1....   \n",
      "8648    0,4,4.9,3.9,3.1,2.6,2.2,2,1.9,1.8,1.8,1.8,1.9,...   \n",
      "...                                                   ...   \n",
      "295010  0,2.8,4,4.9,5.7,6.2,6.7,6.9,7,7,6.9,6.7,6.4,6....   \n",
      "295011  0.0,1.7,3,4,4.9,5.5,6,6.3,6.5,6.5,6.4,6.2,5.9,...   \n",
      "295012  0,2.9,4,5,5.7,6.4,6.9,7.2,7.4,7.4,7.3,7.1,6.8,...   \n",
      "295013  0,0,0,0,0,0,0,0,0,0,0,0,3.3,3.3,3.4,3.4,3.5,3....   \n",
      "295014  0,3.4,4.5,5.3,6.1,6.6,7.3,7.3,7.2,6.9,6.5,6.2,...   \n",
      "\n",
      "                                                A Voltage  \\\n",
      "8644    0.0,0.0,0.0,0.0,0.0,0.0,0.0,0.0,0.0,0.0,0.0,0....   \n",
      "8645    0.0,100.5,102.0,103.5,103.5,102.0,102.0,102.0,...   \n",
      "8646    0.0,91.5,97.5,102.0,105.0,108.0,109.5,109.5,11...   \n",
      "8647    0.0,16.5,52.5,79.5,93.0,100.5,105.0,108.0,108....   \n",
      "8648    0.0,97.5,93.0,99.0,103.5,106.5,108.0,109.5,111...   \n",
      "...                                                   ...   \n",
      "295010  0.0,101.8,101.8,101.8,101.8,101.8,101.5,101.5,...   \n",
      "295011  0.0,11.2,21.9,30.6,37.8,43.9,49.5,54.6,59.4,64...   \n",
      "295012  0.0,80.1,77.4,74.7,72.3,70.2,68.4,66.9,65.7,64...   \n",
      "295013  0.0,10.5,18.9,25.0,31.2,34.2,37.0,39.6,43.0,51...   \n",
      "295014  0.0,106.3,101.4,97.3,93.9,89.5,88.6,89.2,90.6,...   \n",
      "\n",
      "                                                B Current  \\\n",
      "8644    0,4.8,4.6,3.5,2.7,2.1,1.9,1.7,1.8,1.8,1.9,1.9,...   \n",
      "8645    0.0,1.5,4.4,3.7,2.9,2.4,2,1.8,1.6,1.6,1.6,1.5,...   \n",
      "8646    0.0,4.1,3.9,3.1,2.5,2.1,1.8,1.6,1.6,1.5,1.6,1....   \n",
      "8647    0,5,4.1,3.1,2.4,2,1.8,1.6,1.5,1.5,1.4,1.6,1.9,...   \n",
      "8648    0.0,4.3,3.9,3,2.4,2,1.8,1.6,1.6,1.5,1.5,1.7,1....   \n",
      "...                                                   ...   \n",
      "295010  0.9,2.8,4.3,5.5,6.5,7.2,7.5,7.6,7.4,7,6.6,6.2,...   \n",
      "295011  0,3.3,4.3,5.1,5.7,6.1,6.5,6.6,6.7,6.6,6.4,6.2,...   \n",
      "295012  0.0,1.7,3.4,4.8,6,6.9,7.5,7.7,7.6,7.3,6.9,6.4,...   \n",
      "295013  0.0,2.8,2.8,2.8,2.8,2.8,2.8,2.8,2.8,2.8,2.8,2....   \n",
      "295014  1,2.9,4.4,5.6,6.6,7.3,7.6,7.3,6.5,6,5.5,5.1,4....   \n",
      "\n",
      "                                                B Voltage Type of A Type of B  \\\n",
      "8644    0.0,0.0,0.0,0.0,0.0,0.0,0.0,0.0,0.0,0.0,0.0,0....       TWS       TWS   \n",
      "8645    0.0,12.0,58.5,81.0,94.5,100.5,102.0,103.5,105....       TWS       TWS   \n",
      "8646    0.0,39.0,70.5,90.0,99.0,105.0,108.0,109.5,111....       TWS       TWS   \n",
      "8647    0.0,93.0,99.0,105.0,108.0,111.0,112.5,112.5,11...       TWS       TWS   \n",
      "8648    0.0,43.5,73.5,91.5,100.5,106.5,109.5,109.5,111...       TWS       TWS   \n",
      "...                                                   ...       ...       ...   \n",
      "295010  0.0,12.9,17.7,21.4,24.6,27.3,29.7,31.9,33.9,35...       TWS       TWS   \n",
      "295011  0.0,111.9,106.2,101.1,97.2,94.3,92.2,91.2,90.7...       TWS       TWS   \n",
      "295012  0.0,8.2,19.6,29.4,37.2,43.6,48.9,53.5,57.9,62....       TWS       TWS   \n",
      "295013  0.0,109.6,109.3,109.0,108.9,108.6,108.3,108.0,...       TWS       TWS   \n",
      "295014  0.0,9.3,14.8,19.0,22.5,25.2,27.4,29.5,31.6,33....       TWS       TWS   \n",
      "\n",
      "        Polling of A  Polling of B  \n",
      "8644             100         100.0  \n",
      "8645             100         100.0  \n",
      "8646             100         100.0  \n",
      "8647             100         100.0  \n",
      "8648             100         100.0  \n",
      "...              ...           ...  \n",
      "295010            20          20.0  \n",
      "295011            20          20.0  \n",
      "295012            20          20.0  \n",
      "295013            20          20.0  \n",
      "295014            20          20.0  \n",
      "\n",
      "[40773 rows x 12 columns]\n"
     ]
    }
   ],
   "source": [
    "import pandas as pd\n",
    "\n",
    "# Load the dataset\n",
    "file_path = r'/Users/anamikasaroha/Energy7_Week1/twsdata/WR.csv'  # Update with the actual path of your CSV file\n",
    "data = pd.read_csv(file_path)\n",
    "\n",
    "# Filter rows where 'Type of A' or 'Type of B' contains 'TWS'\n",
    "tws_data = data[data['Type of A'].str.contains('TWS', case=False, na=False) | data['Type of B'].str.contains('TWS', case=False, na=False)]\n",
    "\n",
    "# Exclude rows where 'Type of A' or 'Type of B' contains 'IRS'\n",
    "tws_only_data = tws_data[~tws_data['Type of A'].str.contains('IRS', case=False, na=False) & \n",
    "                         ~tws_data['Type of B'].str.contains('IRS', case=False, na=False)]\n",
    "\n",
    "# Display the filtered dataset\n",
    "print(tws_only_data)\n",
    "\n",
    "# Optionally, save the filtered data to a new CSV file\n",
    "tws_only_data.to_csv('WR_tws.csv', index=False)"
   ]
  },
  {
   "cell_type": "code",
   "execution_count": 11,
   "metadata": {},
   "outputs": [
    {
     "name": "stdout",
     "output_type": "stream",
     "text": [
      "Found 74031 occurrences of 'TWS' in the file\n"
     ]
    }
   ],
   "source": [
    "with open('/Users/anamikasaroha/Energy7_Week1/WR_tws.csv', 'r') as file:\n",
    "    data = file.read()\n",
    "    tws_count = data.count(\"TWS\")\n",
    "    print(f\"Found {tws_count} occurrences of 'TWS' in the file\")"
   ]
  },
  {
   "cell_type": "code",
   "execution_count": 12,
   "metadata": {},
   "outputs": [
    {
     "name": "stdout",
     "output_type": "stream",
     "text": [
      "Found 0 occurrences of 'IRS' in the file\n"
     ]
    }
   ],
   "source": [
    "with open('/Users/anamikasaroha/Energy7_Week1/WR_tws.csv', 'r') as file:\n",
    "    data = file.read()\n",
    "    tws_count = data.count(\"IRS\")\n",
    "    print(f\"Found {tws_count} occurrences of 'IRS' in the file\")"
   ]
  },
  {
   "cell_type": "code",
   "execution_count": null,
   "metadata": {},
   "outputs": [],
   "source": []
  },
  {
   "cell_type": "code",
   "execution_count": null,
   "metadata": {},
   "outputs": [],
   "source": []
  },
  {
   "cell_type": "code",
   "execution_count": null,
   "metadata": {},
   "outputs": [],
   "source": []
  },
  {
   "cell_type": "code",
   "execution_count": null,
   "metadata": {},
   "outputs": [],
   "source": []
  }
 ],
 "metadata": {
  "kernelspec": {
   "display_name": "base",
   "language": "python",
   "name": "python3"
  },
  "language_info": {
   "codemirror_mode": {
    "name": "ipython",
    "version": 3
   },
   "file_extension": ".py",
   "mimetype": "text/x-python",
   "name": "python",
   "nbconvert_exporter": "python",
   "pygments_lexer": "ipython3",
   "version": "3.11.7"
  }
 },
 "nbformat": 4,
 "nbformat_minor": 2
}
