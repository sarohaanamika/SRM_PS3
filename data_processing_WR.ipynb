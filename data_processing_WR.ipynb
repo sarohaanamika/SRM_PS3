{
 "cells": [
  {
   "cell_type": "markdown",
   "metadata": {},
   "source": [
    "# Data Preprocessing: \n",
    "- ##  Clean and preprocess the raw data to handle noise, missing values, and time synchronization issues."
   ]
  },
  {
   "cell_type": "code",
   "execution_count": 16,
   "metadata": {},
   "outputs": [],
   "source": [
    "import pandas as pd\n",
    "import numpy as np\n",
    "from datetime import datetime"
   ]
  },
  {
   "cell_type": "code",
   "execution_count": 17,
   "metadata": {},
   "outputs": [
    {
     "data": {
      "text/html": [
       "<div>\n",
       "<style scoped>\n",
       "    .dataframe tbody tr th:only-of-type {\n",
       "        vertical-align: middle;\n",
       "    }\n",
       "\n",
       "    .dataframe tbody tr th {\n",
       "        vertical-align: top;\n",
       "    }\n",
       "\n",
       "    .dataframe thead th {\n",
       "        text-align: right;\n",
       "    }\n",
       "</style>\n",
       "<table border=\"1\" class=\"dataframe\">\n",
       "  <thead>\n",
       "    <tr style=\"text-align: right;\">\n",
       "      <th></th>\n",
       "      <th>Time</th>\n",
       "      <th>Site Name</th>\n",
       "      <th>Point Machine Name</th>\n",
       "      <th>Direction</th>\n",
       "      <th>A Current</th>\n",
       "      <th>A Voltage</th>\n",
       "      <th>B Current</th>\n",
       "      <th>B Voltage</th>\n",
       "      <th>Type of A</th>\n",
       "      <th>Type of B</th>\n",
       "      <th>Polling of A</th>\n",
       "      <th>Polling of B</th>\n",
       "    </tr>\n",
       "  </thead>\n",
       "  <tbody>\n",
       "    <tr>\n",
       "      <th>0</th>\n",
       "      <td>2025-02-10 07:42:30</td>\n",
       "      <td>Atul</td>\n",
       "      <td>129/130</td>\n",
       "      <td>Normal</td>\n",
       "      <td>0.0,4.2,4.1,3.3,2.7,2.3,2.1,2.1,2,2,2,2.1,2.3,...</td>\n",
       "      <td>0.0,0.0,0.0,0.0,0.0,0.0,0.0,0.0,0.0,0.0,0.0,0....</td>\n",
       "      <td>0,4.8,4.6,3.5,2.7,2.1,1.9,1.7,1.8,1.8,1.9,1.9,...</td>\n",
       "      <td>0.0,0.0,0.0,0.0,0.0,0.0,0.0,0.0,0.0,0.0,0.0,0....</td>\n",
       "      <td>TWS</td>\n",
       "      <td>TWS</td>\n",
       "      <td>100</td>\n",
       "      <td>100.0</td>\n",
       "    </tr>\n",
       "    <tr>\n",
       "      <th>1</th>\n",
       "      <td>2025-02-10 07:42:14</td>\n",
       "      <td>Atul</td>\n",
       "      <td>129/130</td>\n",
       "      <td>Reverse</td>\n",
       "      <td>0,4.7,4.7,3.6,2.9,2.4,2.1,1.9,1.9,1.8,1.8,1.9,...</td>\n",
       "      <td>0.0,100.5,102.0,103.5,103.5,102.0,102.0,102.0,...</td>\n",
       "      <td>0.0,1.5,4.4,3.7,2.9,2.4,2,1.8,1.6,1.6,1.6,1.5,...</td>\n",
       "      <td>0.0,12.0,58.5,81.0,94.5,100.5,102.0,103.5,105....</td>\n",
       "      <td>TWS</td>\n",
       "      <td>TWS</td>\n",
       "      <td>100</td>\n",
       "      <td>100.0</td>\n",
       "    </tr>\n",
       "    <tr>\n",
       "      <th>2</th>\n",
       "      <td>2024-08-10 10:00:16</td>\n",
       "      <td>Atul</td>\n",
       "      <td>129/130</td>\n",
       "      <td>Reverse</td>\n",
       "      <td>0,5,4.2,3.3,2.8,2.4,2.1,1.9,1.8,1.8,1.7,1.8,2,...</td>\n",
       "      <td>0.0,91.5,97.5,102.0,105.0,108.0,109.5,109.5,11...</td>\n",
       "      <td>0.0,4.1,3.9,3.1,2.5,2.1,1.8,1.6,1.6,1.5,1.6,1....</td>\n",
       "      <td>0.0,39.0,70.5,90.0,99.0,105.0,108.0,109.5,111....</td>\n",
       "      <td>TWS</td>\n",
       "      <td>TWS</td>\n",
       "      <td>100</td>\n",
       "      <td>100.0</td>\n",
       "    </tr>\n",
       "    <tr>\n",
       "      <th>3</th>\n",
       "      <td>2024-08-10 10:03:28</td>\n",
       "      <td>Atul</td>\n",
       "      <td>129/130</td>\n",
       "      <td>Normal</td>\n",
       "      <td>0.0,1.6,4.4,3.6,2.9,2.4,2.1,1.9,1.8,1.7,1.7,1....</td>\n",
       "      <td>0.0,16.5,52.5,79.5,93.0,100.5,105.0,108.0,108....</td>\n",
       "      <td>0,5,4.1,3.1,2.4,2,1.8,1.6,1.5,1.5,1.4,1.6,1.9,...</td>\n",
       "      <td>0.0,93.0,99.0,105.0,108.0,111.0,112.5,112.5,11...</td>\n",
       "      <td>TWS</td>\n",
       "      <td>TWS</td>\n",
       "      <td>100</td>\n",
       "      <td>100.0</td>\n",
       "    </tr>\n",
       "    <tr>\n",
       "      <th>4</th>\n",
       "      <td>2024-08-10 10:28:37</td>\n",
       "      <td>Atul</td>\n",
       "      <td>129/130</td>\n",
       "      <td>Reverse</td>\n",
       "      <td>0,4,4.9,3.9,3.1,2.6,2.2,2,1.9,1.8,1.8,1.8,1.9,...</td>\n",
       "      <td>0.0,97.5,93.0,99.0,103.5,106.5,108.0,109.5,111...</td>\n",
       "      <td>0.0,4.3,3.9,3,2.4,2,1.8,1.6,1.6,1.5,1.5,1.7,1....</td>\n",
       "      <td>0.0,43.5,73.5,91.5,100.5,106.5,109.5,109.5,111...</td>\n",
       "      <td>TWS</td>\n",
       "      <td>TWS</td>\n",
       "      <td>100</td>\n",
       "      <td>100.0</td>\n",
       "    </tr>\n",
       "  </tbody>\n",
       "</table>\n",
       "</div>"
      ],
      "text/plain": [
       "                  Time Site Name Point Machine Name Direction  \\\n",
       "0  2025-02-10 07:42:30      Atul            129/130    Normal   \n",
       "1  2025-02-10 07:42:14      Atul            129/130   Reverse   \n",
       "2  2024-08-10 10:00:16      Atul            129/130   Reverse   \n",
       "3  2024-08-10 10:03:28      Atul            129/130    Normal   \n",
       "4  2024-08-10 10:28:37      Atul            129/130   Reverse   \n",
       "\n",
       "                                           A Current  \\\n",
       "0  0.0,4.2,4.1,3.3,2.7,2.3,2.1,2.1,2,2,2,2.1,2.3,...   \n",
       "1  0,4.7,4.7,3.6,2.9,2.4,2.1,1.9,1.9,1.8,1.8,1.9,...   \n",
       "2  0,5,4.2,3.3,2.8,2.4,2.1,1.9,1.8,1.8,1.7,1.8,2,...   \n",
       "3  0.0,1.6,4.4,3.6,2.9,2.4,2.1,1.9,1.8,1.7,1.7,1....   \n",
       "4  0,4,4.9,3.9,3.1,2.6,2.2,2,1.9,1.8,1.8,1.8,1.9,...   \n",
       "\n",
       "                                           A Voltage  \\\n",
       "0  0.0,0.0,0.0,0.0,0.0,0.0,0.0,0.0,0.0,0.0,0.0,0....   \n",
       "1  0.0,100.5,102.0,103.5,103.5,102.0,102.0,102.0,...   \n",
       "2  0.0,91.5,97.5,102.0,105.0,108.0,109.5,109.5,11...   \n",
       "3  0.0,16.5,52.5,79.5,93.0,100.5,105.0,108.0,108....   \n",
       "4  0.0,97.5,93.0,99.0,103.5,106.5,108.0,109.5,111...   \n",
       "\n",
       "                                           B Current  \\\n",
       "0  0,4.8,4.6,3.5,2.7,2.1,1.9,1.7,1.8,1.8,1.9,1.9,...   \n",
       "1  0.0,1.5,4.4,3.7,2.9,2.4,2,1.8,1.6,1.6,1.6,1.5,...   \n",
       "2  0.0,4.1,3.9,3.1,2.5,2.1,1.8,1.6,1.6,1.5,1.6,1....   \n",
       "3  0,5,4.1,3.1,2.4,2,1.8,1.6,1.5,1.5,1.4,1.6,1.9,...   \n",
       "4  0.0,4.3,3.9,3,2.4,2,1.8,1.6,1.6,1.5,1.5,1.7,1....   \n",
       "\n",
       "                                           B Voltage Type of A Type of B  \\\n",
       "0  0.0,0.0,0.0,0.0,0.0,0.0,0.0,0.0,0.0,0.0,0.0,0....       TWS       TWS   \n",
       "1  0.0,12.0,58.5,81.0,94.5,100.5,102.0,103.5,105....       TWS       TWS   \n",
       "2  0.0,39.0,70.5,90.0,99.0,105.0,108.0,109.5,111....       TWS       TWS   \n",
       "3  0.0,93.0,99.0,105.0,108.0,111.0,112.5,112.5,11...       TWS       TWS   \n",
       "4  0.0,43.5,73.5,91.5,100.5,106.5,109.5,109.5,111...       TWS       TWS   \n",
       "\n",
       "   Polling of A  Polling of B  \n",
       "0           100         100.0  \n",
       "1           100         100.0  \n",
       "2           100         100.0  \n",
       "3           100         100.0  \n",
       "4           100         100.0  "
      ]
     },
     "execution_count": 17,
     "metadata": {},
     "output_type": "execute_result"
    }
   ],
   "source": [
    "## Loading the Dataset \n",
    "df = pd.read_csv('WR_tws.csv')\n",
    "df.head()"
   ]
  },
  {
   "cell_type": "code",
   "execution_count": 18,
   "metadata": {},
   "outputs": [
    {
     "data": {
      "text/plain": [
       "(40773, 12)"
      ]
     },
     "execution_count": 18,
     "metadata": {},
     "output_type": "execute_result"
    }
   ],
   "source": [
    "df.shape"
   ]
  },
  {
   "cell_type": "code",
   "execution_count": 19,
   "metadata": {},
   "outputs": [
    {
     "name": "stdout",
     "output_type": "stream",
     "text": [
      "<class 'pandas.core.frame.DataFrame'>\n",
      "RangeIndex: 40773 entries, 0 to 40772\n",
      "Data columns (total 12 columns):\n",
      " #   Column              Non-Null Count  Dtype  \n",
      "---  ------              --------------  -----  \n",
      " 0   Time                40773 non-null  object \n",
      " 1   Site Name           40773 non-null  object \n",
      " 2   Point Machine Name  40773 non-null  object \n",
      " 3   Direction           40773 non-null  object \n",
      " 4   A Current           40710 non-null  object \n",
      " 5   A Voltage           40706 non-null  object \n",
      " 6   B Current           40709 non-null  object \n",
      " 7   B Voltage           40686 non-null  object \n",
      " 8   Type of A           40773 non-null  object \n",
      " 9   Type of B           33258 non-null  object \n",
      " 10  Polling of A        40773 non-null  int64  \n",
      " 11  Polling of B        33258 non-null  float64\n",
      "dtypes: float64(1), int64(1), object(10)\n",
      "memory usage: 3.7+ MB\n"
     ]
    }
   ],
   "source": [
    "df.info()"
   ]
  },
  {
   "cell_type": "code",
   "execution_count": 20,
   "metadata": {},
   "outputs": [
    {
     "name": "stdout",
     "output_type": "stream",
     "text": [
      "\n",
      "Column: A Current\n",
      "Sample values:\n",
      "Type: <class 'str'>, Value: 0.0,4.2,4.1,3.3,2.7,2.3,2.1,2.1,2,2,2,2.1,2.3,2.5,2.6,2.7,2.8,2.9,2.8,2.7,2.3,2,1.9,1.8,1.7,1.7,1.6,0.0\n",
      "Type: <class 'str'>, Value: 0,4.7,4.7,3.6,2.9,2.4,2.1,1.9,1.9,1.8,1.8,1.9,2.1,2.3,2.6,2.8,2.9,3,3.1,3.2,3.2,3.1,3,2.9,2.7,2.7,2.6,2.4,2.4,2.3,1.1,0.6,0.0\n",
      "Type: <class 'str'>, Value: 0,5,4.2,3.3,2.8,2.4,2.1,1.9,1.8,1.8,1.7,1.8,2,2.2,2.5,2.7,2.9,3,3.1,3.2,3.1,3,2.7,2.4,2.4,2.4,2.3,2.3,2.2,1.6,0.8,0.4,0.0\n",
      "Type: <class 'str'>, Value: 0.0,1.6,4.4,3.6,2.9,2.4,2.1,1.9,1.8,1.7,1.7,1.7,1.9,2.2,2.4,2.6,2.8,2.9,3,3.1,3.1,3,2.8,2.4,2.1,1.9,1.8,1.7,2.2,0.0\n",
      "Type: <class 'str'>, Value: 0,4,4.9,3.9,3.1,2.6,2.2,2,1.9,1.8,1.8,1.8,1.9,2.1,2.4,2.6,2.9,3,3.1,3.2,3.3,3.3,3.1,2.8,2.5,2.4,2.4,2.4,2.3,2.3,1.6,0.8,0.4,0.0\n",
      "\n",
      "Column: A Voltage\n",
      "Sample values:\n",
      "Type: <class 'str'>, Value: 0.0,0.0,0.0,0.0,0.0,0.0,0.0,0.0,0.0,0.0,0.0,0.0,0.0,0.0,0.0,0.0,0.0,0.0,0.0,0.0,0.0,0.0,0.0,0.0,0.0,0.0,0.0\n",
      "Type: <class 'str'>, Value: 0.0,100.5,102.0,103.5,103.5,102.0,102.0,102.0,100.5,99.0,100.5,103.5,105.0,106.5,105.0,105.0,103.5,103.5,102.0,102.0,102.0,103.5,88.5,57.0,30.0,15.0,7.5,0.0,0.0,0.0,0.0,0.0,0.0,0.0,0.0,0.0,0.0,0.0,0.0\n",
      "Type: <class 'str'>, Value: 0.0,91.5,97.5,102.0,105.0,108.0,109.5,109.5,111.0,111.0,111.0,109.5,109.5,108.0,106.5,105.0,105.0,103.5,103.5,102.0,103.5,103.5,105.0,108.0,108.0,108.0,108.0,108.0,108.0,112.5,117.0,118.5,120.0,120.0,120.0,120.0,120.0,120.0,120.0,120.0,120.0,120.0,120.0,121.5,112.5,81.0,54.0,36.0,24.0,16.5,12.0,9.0,0.0,0.0,0.0,0.0,0.0,0.0,0.0,0.0,0.0,0.0,0.0,0.0\n",
      "Type: <class 'str'>, Value: 0.0,16.5,52.5,79.5,93.0,100.5,105.0,108.0,108.0,109.5,109.5,109.5,109.5,108.0,106.5,106.5,105.0,105.0,103.5,103.5,103.5,105.0,106.5,108.0,109.5,111.0,111.0,111.0,108.0,0.0\n",
      "Type: <class 'str'>, Value: 0.0,97.5,93.0,99.0,103.5,106.5,108.0,109.5,111.0,111.0,111.0,111.0,109.5,109.5,108.0,106.5,105.0,103.5,103.5,102.0,102.0,102.0,103.5,105.0,106.5,108.0,108.0,108.0,108.0,108.0,112.5,117.0,118.5,120.0,120.0,120.0,120.0,120.0,120.0,120.0,120.0,120.0,120.0,120.0,120.0,114.0,82.5,57.0,37.5,25.5,18.0,12.0,9.0,0.0,0.0,0.0,0.0,0.0,0.0,0.0,0.0,0.0,0.0,0.0,0.0\n",
      "\n",
      "Column: B Current\n",
      "Sample values:\n",
      "Type: <class 'str'>, Value: 0,4.8,4.6,3.5,2.7,2.1,1.9,1.7,1.8,1.8,1.9,1.9,2,2.2,2.3,2.2,1.9,1.6,1.5,1.5,1.5,1.6,1.7,1.8,1.8,1.8,1.8,1,0.5,0.0\n",
      "Type: <class 'str'>, Value: 0.0,1.5,4.4,3.7,2.9,2.4,2,1.8,1.6,1.6,1.6,1.5,1.6,1.9,2.2,2.4,2.6,2.8,3,3.1,3.2,3.2,3.2,3.1,3,2.9,2.7,2.6,2.4,2.4,2.2,0.0\n",
      "Type: <class 'str'>, Value: 0.0,4.1,3.9,3.1,2.5,2.1,1.8,1.6,1.6,1.5,1.6,1.6,1.9,2.2,2.5,2.7,2.9,3.1,3.4,3.6,3.6,3.6,3.3,2.9,2.6,2.4,2.3,2.2,2.1,2.4,2.4,2.7,0.0\n",
      "Type: <class 'str'>, Value: 0,5,4.1,3.1,2.4,2,1.8,1.6,1.5,1.5,1.4,1.6,1.9,2.3,2.6,3,3.2,3.1,2.7,2.5,2.5,2.5,2.4,2.4,2.5,2.5,2.5,2.2,2.1,1.9,0.9,0.4,0.0\n",
      "Type: <class 'str'>, Value: 0.0,4.3,3.9,3,2.4,2,1.8,1.6,1.6,1.5,1.5,1.7,1.9,2.2,2.5,2.8,3.1,3.4,3.6,3.7,3.5,3.3,3.1,2.8,2.6,2.4,2.3,2.3,2.2,2.4,2.3,0.0\n",
      "\n",
      "Column: B Voltage\n",
      "Sample values:\n",
      "Type: <class 'str'>, Value: 0.0,0.0,0.0,0.0,0.0,0.0,0.0,0.0,0.0,0.0,0.0,0.0,0.0,0.0,0.0,0.0,0.0,0.0,0.0,0.0,0.0,0.0,0.0,0.0,0.0,0.0,0.0,0.0,0.0,0.0,0.0,0.0,0.0,0.0,0.0,0.0,0.0,0.0,0.0,0.0,0.0,0.0,0.0,0.0,0.0,0.0,0.0,0.0,0.0,0.0,0.0,0.0,0.0,0.0,0.0,0.0,0.0,0.0\n",
      "Type: <class 'str'>, Value: 0.0,12.0,58.5,81.0,94.5,100.5,102.0,103.5,105.0,105.0,103.5,103.5,102.0,100.5,100.5,99.0,99.0,100.5,100.5,103.5,105.0,106.5,106.5,108.0,108.0,108.0,84.0,52.5,72.0,88.5,96.0,0.0\n",
      "Type: <class 'str'>, Value: 0.0,39.0,70.5,90.0,99.0,105.0,108.0,109.5,111.0,111.0,111.0,111.0,109.5,108.0,106.5,105.0,103.5,102.0,100.5,100.5,100.5,100.5,102.0,105.0,106.5,108.0,108.0,108.0,109.5,106.5,108.0,105.0,0.0\n",
      "Type: <class 'str'>, Value: 0.0,93.0,99.0,105.0,108.0,111.0,112.5,112.5,112.5,112.5,112.5,112.5,111.0,108.0,106.5,105.0,103.5,105.0,106.5,108.0,108.0,108.0,108.0,108.0,108.0,108.0,108.0,109.5,109.5,111.0,117.0,120.0,120.0,121.5,121.5,121.5,121.5,121.5,121.5,121.5,121.5,121.5,121.5,121.5,114.0,79.5,51.0,33.0,21.0,13.5,9.0,0.0,0.0,0.0,0.0,0.0,0.0,0.0,0.0,0.0,0.0,0.0,0.0\n",
      "Type: <class 'str'>, Value: 0.0,43.5,73.5,91.5,100.5,106.5,109.5,109.5,111.0,111.0,111.0,111.0,109.5,108.0,106.5,105.0,103.5,102.0,100.5,100.5,100.5,102.0,103.5,105.0,106.5,108.0,108.0,108.0,108.0,106.5,108.0,0.0\n"
     ]
    }
   ],
   "source": [
    "# First let's see what the raw data looks like\n",
    "array_columns = ['A Current', 'A Voltage', 'B Current', 'B Voltage']\n",
    "\n",
    "for col in array_columns:\n",
    "    print(f\"\\nColumn: {col}\")\n",
    "    print(\"Sample values:\")\n",
    "    for val in df[col].head():\n",
    "        print(f\"Type: {type(val)}, Value: {val}\")"
   ]
  },
  {
   "cell_type": "markdown",
   "metadata": {},
   "source": [
    "## Converting comma-separated strings to arrays "
   ]
  },
  {
   "cell_type": "code",
   "execution_count": 21,
   "metadata": {},
   "outputs": [],
   "source": [
    "array_columns = ['A Current', 'A Voltage', 'B Current', 'B Voltage']\n",
    "\n",
    "def convert_to_array(x):\n",
    "    if isinstance(x, str):\n",
    "        try:\n",
    "            # Split by comma and convert each to float\n",
    "            # Handle cases where values might have trailing/leading spaces\n",
    "            return np.array([float(val.strip()) for val in x.split(',') if val.strip()])\n",
    "        except ValueError:\n",
    "            # Fallback for any unexpected format\n",
    "            return np.array([])\n",
    "    else:\n",
    "        return np.array([])\n",
    "\n",
    "for col in array_columns:\n",
    "    df[col] = df[col].apply(convert_to_array)"
   ]
  },
  {
   "cell_type": "code",
   "execution_count": 22,
   "metadata": {},
   "outputs": [
    {
     "data": {
      "text/html": [
       "<div>\n",
       "<style scoped>\n",
       "    .dataframe tbody tr th:only-of-type {\n",
       "        vertical-align: middle;\n",
       "    }\n",
       "\n",
       "    .dataframe tbody tr th {\n",
       "        vertical-align: top;\n",
       "    }\n",
       "\n",
       "    .dataframe thead th {\n",
       "        text-align: right;\n",
       "    }\n",
       "</style>\n",
       "<table border=\"1\" class=\"dataframe\">\n",
       "  <thead>\n",
       "    <tr style=\"text-align: right;\">\n",
       "      <th></th>\n",
       "      <th>Time</th>\n",
       "      <th>Site Name</th>\n",
       "      <th>Point Machine Name</th>\n",
       "      <th>Direction</th>\n",
       "      <th>A Current</th>\n",
       "      <th>A Voltage</th>\n",
       "      <th>B Current</th>\n",
       "      <th>B Voltage</th>\n",
       "      <th>Type of A</th>\n",
       "      <th>Type of B</th>\n",
       "      <th>Polling of A</th>\n",
       "      <th>Polling of B</th>\n",
       "    </tr>\n",
       "  </thead>\n",
       "  <tbody>\n",
       "    <tr>\n",
       "      <th>0</th>\n",
       "      <td>2025-02-10 07:42:30</td>\n",
       "      <td>Atul</td>\n",
       "      <td>129/130</td>\n",
       "      <td>Normal</td>\n",
       "      <td>[0.0, 4.2, 4.1, 3.3, 2.7, 2.3, 2.1, 2.1, 2.0, ...</td>\n",
       "      <td>[0.0, 0.0, 0.0, 0.0, 0.0, 0.0, 0.0, 0.0, 0.0, ...</td>\n",
       "      <td>[0.0, 4.8, 4.6, 3.5, 2.7, 2.1, 1.9, 1.7, 1.8, ...</td>\n",
       "      <td>[0.0, 0.0, 0.0, 0.0, 0.0, 0.0, 0.0, 0.0, 0.0, ...</td>\n",
       "      <td>TWS</td>\n",
       "      <td>TWS</td>\n",
       "      <td>100</td>\n",
       "      <td>100.0</td>\n",
       "    </tr>\n",
       "    <tr>\n",
       "      <th>1</th>\n",
       "      <td>2025-02-10 07:42:14</td>\n",
       "      <td>Atul</td>\n",
       "      <td>129/130</td>\n",
       "      <td>Reverse</td>\n",
       "      <td>[0.0, 4.7, 4.7, 3.6, 2.9, 2.4, 2.1, 1.9, 1.9, ...</td>\n",
       "      <td>[0.0, 100.5, 102.0, 103.5, 103.5, 102.0, 102.0...</td>\n",
       "      <td>[0.0, 1.5, 4.4, 3.7, 2.9, 2.4, 2.0, 1.8, 1.6, ...</td>\n",
       "      <td>[0.0, 12.0, 58.5, 81.0, 94.5, 100.5, 102.0, 10...</td>\n",
       "      <td>TWS</td>\n",
       "      <td>TWS</td>\n",
       "      <td>100</td>\n",
       "      <td>100.0</td>\n",
       "    </tr>\n",
       "    <tr>\n",
       "      <th>2</th>\n",
       "      <td>2024-08-10 10:00:16</td>\n",
       "      <td>Atul</td>\n",
       "      <td>129/130</td>\n",
       "      <td>Reverse</td>\n",
       "      <td>[0.0, 5.0, 4.2, 3.3, 2.8, 2.4, 2.1, 1.9, 1.8, ...</td>\n",
       "      <td>[0.0, 91.5, 97.5, 102.0, 105.0, 108.0, 109.5, ...</td>\n",
       "      <td>[0.0, 4.1, 3.9, 3.1, 2.5, 2.1, 1.8, 1.6, 1.6, ...</td>\n",
       "      <td>[0.0, 39.0, 70.5, 90.0, 99.0, 105.0, 108.0, 10...</td>\n",
       "      <td>TWS</td>\n",
       "      <td>TWS</td>\n",
       "      <td>100</td>\n",
       "      <td>100.0</td>\n",
       "    </tr>\n",
       "    <tr>\n",
       "      <th>3</th>\n",
       "      <td>2024-08-10 10:03:28</td>\n",
       "      <td>Atul</td>\n",
       "      <td>129/130</td>\n",
       "      <td>Normal</td>\n",
       "      <td>[0.0, 1.6, 4.4, 3.6, 2.9, 2.4, 2.1, 1.9, 1.8, ...</td>\n",
       "      <td>[0.0, 16.5, 52.5, 79.5, 93.0, 100.5, 105.0, 10...</td>\n",
       "      <td>[0.0, 5.0, 4.1, 3.1, 2.4, 2.0, 1.8, 1.6, 1.5, ...</td>\n",
       "      <td>[0.0, 93.0, 99.0, 105.0, 108.0, 111.0, 112.5, ...</td>\n",
       "      <td>TWS</td>\n",
       "      <td>TWS</td>\n",
       "      <td>100</td>\n",
       "      <td>100.0</td>\n",
       "    </tr>\n",
       "    <tr>\n",
       "      <th>4</th>\n",
       "      <td>2024-08-10 10:28:37</td>\n",
       "      <td>Atul</td>\n",
       "      <td>129/130</td>\n",
       "      <td>Reverse</td>\n",
       "      <td>[0.0, 4.0, 4.9, 3.9, 3.1, 2.6, 2.2, 2.0, 1.9, ...</td>\n",
       "      <td>[0.0, 97.5, 93.0, 99.0, 103.5, 106.5, 108.0, 1...</td>\n",
       "      <td>[0.0, 4.3, 3.9, 3.0, 2.4, 2.0, 1.8, 1.6, 1.6, ...</td>\n",
       "      <td>[0.0, 43.5, 73.5, 91.5, 100.5, 106.5, 109.5, 1...</td>\n",
       "      <td>TWS</td>\n",
       "      <td>TWS</td>\n",
       "      <td>100</td>\n",
       "      <td>100.0</td>\n",
       "    </tr>\n",
       "  </tbody>\n",
       "</table>\n",
       "</div>"
      ],
      "text/plain": [
       "                  Time Site Name Point Machine Name Direction  \\\n",
       "0  2025-02-10 07:42:30      Atul            129/130    Normal   \n",
       "1  2025-02-10 07:42:14      Atul            129/130   Reverse   \n",
       "2  2024-08-10 10:00:16      Atul            129/130   Reverse   \n",
       "3  2024-08-10 10:03:28      Atul            129/130    Normal   \n",
       "4  2024-08-10 10:28:37      Atul            129/130   Reverse   \n",
       "\n",
       "                                           A Current  \\\n",
       "0  [0.0, 4.2, 4.1, 3.3, 2.7, 2.3, 2.1, 2.1, 2.0, ...   \n",
       "1  [0.0, 4.7, 4.7, 3.6, 2.9, 2.4, 2.1, 1.9, 1.9, ...   \n",
       "2  [0.0, 5.0, 4.2, 3.3, 2.8, 2.4, 2.1, 1.9, 1.8, ...   \n",
       "3  [0.0, 1.6, 4.4, 3.6, 2.9, 2.4, 2.1, 1.9, 1.8, ...   \n",
       "4  [0.0, 4.0, 4.9, 3.9, 3.1, 2.6, 2.2, 2.0, 1.9, ...   \n",
       "\n",
       "                                           A Voltage  \\\n",
       "0  [0.0, 0.0, 0.0, 0.0, 0.0, 0.0, 0.0, 0.0, 0.0, ...   \n",
       "1  [0.0, 100.5, 102.0, 103.5, 103.5, 102.0, 102.0...   \n",
       "2  [0.0, 91.5, 97.5, 102.0, 105.0, 108.0, 109.5, ...   \n",
       "3  [0.0, 16.5, 52.5, 79.5, 93.0, 100.5, 105.0, 10...   \n",
       "4  [0.0, 97.5, 93.0, 99.0, 103.5, 106.5, 108.0, 1...   \n",
       "\n",
       "                                           B Current  \\\n",
       "0  [0.0, 4.8, 4.6, 3.5, 2.7, 2.1, 1.9, 1.7, 1.8, ...   \n",
       "1  [0.0, 1.5, 4.4, 3.7, 2.9, 2.4, 2.0, 1.8, 1.6, ...   \n",
       "2  [0.0, 4.1, 3.9, 3.1, 2.5, 2.1, 1.8, 1.6, 1.6, ...   \n",
       "3  [0.0, 5.0, 4.1, 3.1, 2.4, 2.0, 1.8, 1.6, 1.5, ...   \n",
       "4  [0.0, 4.3, 3.9, 3.0, 2.4, 2.0, 1.8, 1.6, 1.6, ...   \n",
       "\n",
       "                                           B Voltage Type of A Type of B  \\\n",
       "0  [0.0, 0.0, 0.0, 0.0, 0.0, 0.0, 0.0, 0.0, 0.0, ...       TWS       TWS   \n",
       "1  [0.0, 12.0, 58.5, 81.0, 94.5, 100.5, 102.0, 10...       TWS       TWS   \n",
       "2  [0.0, 39.0, 70.5, 90.0, 99.0, 105.0, 108.0, 10...       TWS       TWS   \n",
       "3  [0.0, 93.0, 99.0, 105.0, 108.0, 111.0, 112.5, ...       TWS       TWS   \n",
       "4  [0.0, 43.5, 73.5, 91.5, 100.5, 106.5, 109.5, 1...       TWS       TWS   \n",
       "\n",
       "   Polling of A  Polling of B  \n",
       "0           100         100.0  \n",
       "1           100         100.0  \n",
       "2           100         100.0  \n",
       "3           100         100.0  \n",
       "4           100         100.0  "
      ]
     },
     "execution_count": 22,
     "metadata": {},
     "output_type": "execute_result"
    }
   ],
   "source": [
    "df.head()"
   ]
  },
  {
   "cell_type": "markdown",
   "metadata": {},
   "source": [
    "## Checking Null Values "
   ]
  },
  {
   "cell_type": "code",
   "execution_count": 23,
   "metadata": {},
   "outputs": [
    {
     "data": {
      "text/plain": [
       "Time                     0\n",
       "Site Name                0\n",
       "Point Machine Name       0\n",
       "Direction                0\n",
       "A Current                0\n",
       "A Voltage                0\n",
       "B Current                0\n",
       "B Voltage                0\n",
       "Type of A                0\n",
       "Type of B             7515\n",
       "Polling of A             0\n",
       "Polling of B          7515\n",
       "dtype: int64"
      ]
     },
     "execution_count": 23,
     "metadata": {},
     "output_type": "execute_result"
    }
   ],
   "source": [
    "df.isnull().sum()"
   ]
  },
  {
   "cell_type": "code",
   "execution_count": 24,
   "metadata": {},
   "outputs": [],
   "source": [
    "df['Time'] = pd.to_datetime(df['Time'])"
   ]
  },
  {
   "cell_type": "markdown",
   "metadata": {},
   "source": [
    "## Clusters of missing Values at a certain time "
   ]
  },
  {
   "cell_type": "code",
   "execution_count": 25,
   "metadata": {},
   "outputs": [
    {
     "name": "stdout",
     "output_type": "stream",
     "text": [
      "Missing Data Patterns by Hour of Day:\n",
      "|   hour |   Total_Records |   Type_B_missing_pct |   Polling_B_missing_pct |   Measurement_missing_pct |   Avg_Array_Length |\n",
      "|-------:|----------------:|---------------------:|------------------------:|--------------------------:|-------------------:|\n",
      "|      0 |            1454 |              6.32737 |                 6.32737 |                         0 |            66.6023 |\n",
      "|      1 |            1101 |             34.7866  |                34.7866  |                         0 |            92.2516 |\n",
      "|      2 |            1440 |             31.4583  |                31.4583  |                         0 |            92.7106 |\n",
      "|      3 |             850 |             29.0588  |                29.0588  |                         0 |            78.42   |\n",
      "|      4 |            1335 |             31.236   |                31.236   |                         0 |            76.9875 |\n",
      "|      5 |            1332 |             25.6006  |                25.6006  |                         0 |            73.634  |\n",
      "|      6 |            1664 |              7.27163 |                 7.27163 |                         0 |            67.373  |\n",
      "|      7 |            1673 |             27.0173  |                27.0173  |                         0 |            64.6848 |\n",
      "|      8 |            1804 |             18.459   |                18.459   |                         0 |            88.7149 |\n",
      "|      9 |            2855 |             13.7653  |                13.7653  |                         0 |            90.2015 |\n",
      "|     10 |            3722 |             13.2993  |                13.2993  |                         0 |            84.8396 |\n",
      "|     11 |            3165 |             13.4281  |                13.4281  |                         0 |            88.6638 |\n",
      "|     12 |            2506 |             19.4334  |                19.4334  |                         0 |            74.1494 |\n",
      "|     13 |            2342 |             18.1896  |                18.1896  |                         0 |            88.2546 |\n",
      "|     14 |            1448 |             19.8895  |                19.8895  |                         0 |            76.2766 |\n",
      "|     15 |            1678 |             14.8987  |                14.8987  |                         0 |            92.4303 |\n",
      "|     16 |            1811 |              4.63832 |                 4.63832 |                         0 |            81.3769 |\n",
      "|     17 |            1467 |             15.0648  |                15.0648  |                         0 |            71.3536 |\n",
      "|     18 |            1186 |             29.258   |                29.258   |                         0 |            71.8602 |\n",
      "|     19 |            1354 |             35.9675  |                35.9675  |                         0 |            66.5144 |\n",
      "|     20 |            1007 |             30.9831  |                30.9831  |                         0 |            71.7661 |\n",
      "|     21 |            1274 |             24.5683  |                24.5683  |                         0 |            70.8305 |\n",
      "|     22 |            1187 |             10.1938  |                10.1938  |                         0 |            67.8707 |\n",
      "|     23 |            1118 |              2.41503 |                 2.41503 |                         0 |            62.5351 |\n"
     ]
    }
   ],
   "source": [
    "df['hour'] = df['Time'].dt.hour\n",
    "\n",
    "def calculate_avg_length(group):\n",
    "    lengths = []\n",
    "    for col in ['A Current', 'A Voltage', 'B Current', 'B Voltage']:\n",
    "        lengths.extend([len(x) for x in group[col] if isinstance(x, (list, np.ndarray))])\n",
    "    return np.mean(lengths) if lengths else 0\n",
    "\n",
    "time_missing_analysis = df.groupby('hour').apply(\n",
    "    lambda g: pd.Series({\n",
    "        'Total_Records': len(g),\n",
    "        'Type_B_missing_pct': g['Type of B'].isna().mean() * 100,\n",
    "        'Polling_B_missing_pct': g['Polling of B'].isna().mean() * 100,\n",
    "        'Measurement_missing_pct': g[array_columns].isna().any(axis=1).mean() * 100,\n",
    "        'Avg_Array_Length': calculate_avg_length(g)\n",
    "    })\n",
    ").reset_index()\n",
    "\n",
    "print(\"Missing Data Patterns by Hour of Day:\")\n",
    "print(time_missing_analysis.to_markdown(index=False))"
   ]
  },
  {
   "cell_type": "markdown",
   "metadata": {},
   "source": [
    "## Site Specific Analysis "
   ]
  },
  {
   "cell_type": "code",
   "execution_count": 26,
   "metadata": {},
   "outputs": [
    {
     "name": "stdout",
     "output_type": "stream",
     "text": [
      "Site-Specific Data Quality Analysis:\n",
      "|    | Site Name   | Point Machine Name   |   Total_Records |   Type_B_missing_pct |   Polling_B_missing_pct |   Measurement_missing_pct |   Avg_Array_Length |   Direction_Normal_pct |\n",
      "|---:|:------------|:---------------------|----------------:|---------------------:|------------------------:|--------------------------:|-------------------:|-----------------------:|\n",
      "|  0 | Atul        | 129/130              |            1040 |                    0 |                       0 |                         0 |            37.4957 |                46.7308 |\n",
      "|  1 | Atul        | 159/160              |             475 |                    0 |                       0 |                         0 |            51.5774 |                48.4211 |\n",
      "|  2 | Bhestan     | PT-101/102           |            1405 |                    0 |                       0 |                         0 |            51.7874 |                51.7438 |\n",
      "|  3 | Bhestan     | PT-109/110           |             120 |                    0 |                       0 |                         0 |           196.9    |                49.1667 |\n",
      "|  4 | Bhestan     | PT-119/120           |            1350 |                    0 |                       0 |                         0 |            55.2794 |                50.3704 |\n",
      "|  5 | Bhestan     | PT-121/122           |            2875 |                    0 |                       0 |                         0 |            64.3177 |                50.6087 |\n",
      "|  6 | Bilimora    | PT-103/104           |            1335 |                    0 |                       0 |                         0 |            36.1757 |                50.1873 |\n",
      "|  7 | Bilimora    | PT-119/120           |            2396 |                    0 |                       0 |                         0 |            35.7883 |                49.7078 |\n",
      "|  8 | Dahanu Road | PT 101 - 102         |             592 |                    0 |                       0 |                         0 |            39.2698 |                49.6622 |\n",
      "|  9 | Dahanu Road | PT 111 - 112         |             905 |                    0 |                       0 |                         0 |            36.6238 |                49.7238 |\n"
     ]
    }
   ],
   "source": [
    "site_missing_analysis = df.groupby(['Site Name', 'Point Machine Name']).apply(\n",
    "    lambda g: pd.Series({\n",
    "        'Total_Records': len(g),\n",
    "        'Type_B_missing_pct': g['Type of B'].isna().mean() * 100,\n",
    "        'Polling_B_missing_pct': g['Polling of B'].isna().mean() * 100,\n",
    "        'Measurement_missing_pct': g[array_columns].isna().any(axis=1).mean() * 100,\n",
    "        'Avg_Array_Length': calculate_avg_length(g),  # Reuse the same function\n",
    "        'Direction_Normal_pct': (g['Direction'] == 'Normal').mean() * 100\n",
    "    })\n",
    ").reset_index()\n",
    "\n",
    "print(\"Site-Specific Data Quality Analysis:\")\n",
    "print(site_missing_analysis.head(10).to_markdown())"
   ]
  },
  {
   "cell_type": "markdown",
   "metadata": {},
   "source": [
    "### Array lengths:\n",
    "#### Bhestan PT-109/110 is an outlier with 197 measurements\n",
    "##### Most sites in 35-65 range"
   ]
  },
  {
   "cell_type": "code",
   "execution_count": 27,
   "metadata": {},
   "outputs": [
    {
     "name": "stderr",
     "output_type": "stream",
     "text": [
      "/opt/anaconda3/lib/python3.11/site-packages/seaborn/_oldcore.py:1119: FutureWarning: use_inf_as_na option is deprecated and will be removed in a future version. Convert inf values to NaN before operating instead.\n",
      "  with pd.option_context('mode.use_inf_as_na', True):\n",
      "/opt/anaconda3/lib/python3.11/site-packages/seaborn/_oldcore.py:1119: FutureWarning: use_inf_as_na option is deprecated and will be removed in a future version. Convert inf values to NaN before operating instead.\n",
      "  with pd.option_context('mode.use_inf_as_na', True):\n"
     ]
    },
    {
     "data": {
      "image/png": "[encoded data removed]",
      "text/plain": [
       "<Figure size 1200x600 with 1 Axes>"
      ]
     },
     "metadata": {},
     "output_type": "display_data"
    }
   ],
   "source": [
    "import matplotlib.pyplot as plt\n",
    "import seaborn as sns\n",
    "\n",
    "plt.figure(figsize=(12, 6))\n",
    "sns.lineplot(data=time_missing_analysis, x='hour', y='Type_B_missing_pct')\n",
    "plt.title('Percentage of Missing Type B Data by Hour')\n",
    "plt.ylabel('Missing Percentage')\n",
    "plt.xlabel('Hour of Day')\n",
    "plt.axhline(y=85, color='r', linestyle='--', label='Overall Average')\n",
    "plt.legend()\n",
    "plt.show()"
   ]
  },
  {
   "cell_type": "code",
   "execution_count": 30,
   "metadata": {},
   "outputs": [],
   "source": [
    "# Filling Type of B with \"TWS\"\n",
    "df['Type of B'] = df['Type of B'].fillna(\"TWS\") \n",
    "\n",
    " # Filling  Polling of B with 100.0\n",
    "df['Polling of B'] = df['Polling of B'].fillna(100.0) "
   ]
  },
  {
   "cell_type": "code",
   "execution_count": 31,
   "metadata": {},
   "outputs": [
    {
     "data": {
      "text/plain": [
       "Time                  0\n",
       "Site Name             0\n",
       "Point Machine Name    0\n",
       "Direction             0\n",
       "A Current             0\n",
       "A Voltage             0\n",
       "B Current             0\n",
       "B Voltage             0\n",
       "Type of A             0\n",
       "Type of B             0\n",
       "Polling of A          0\n",
       "Polling of B          0\n",
       "hour                  0\n",
       "dtype: int64"
      ]
     },
     "execution_count": 31,
     "metadata": {},
     "output_type": "execute_result"
    }
   ],
   "source": [
    "df.isnull().sum()"
   ]
  },
  {
   "cell_type": "code",
   "execution_count": null,
   "metadata": {},
   "outputs": [],
   "source": []
  },
  {
   "cell_type": "code",
   "execution_count": null,
   "metadata": {},
   "outputs": [],
   "source": []
  },
  {
   "cell_type": "code",
   "execution_count": null,
   "metadata": {},
   "outputs": [],
   "source": []
  },
  {
   "cell_type": "code",
   "execution_count": null,
   "metadata": {},
   "outputs": [],
   "source": []
  }
 ],
 "metadata": {
  "kernelspec": {
   "display_name": "base",
   "language": "python",
   "name": "python3"
  },
  "language_info": {
   "codemirror_mode": {
    "name": "ipython",
    "version": 3
   },
   "file_extension": ".py",
   "mimetype": "text/x-python",
   "name": "python",
   "nbconvert_exporter": "python",
   "pygments_lexer": "ipython3",
   "version": "3.11.7"
  }
 },
 "nbformat": 4,
 "nbformat_minor": 2
}
